{
 "cells": [
  {
   "cell_type": "markdown",
   "id": "22296c9a-97ea-4442-9783-ac62758e8d45",
   "metadata": {},
   "source": [
    "# Data Science Tools and Ecosystem\n"
   ]
  },
  {
   "cell_type": "markdown",
   "id": "d4166d90-5b3a-4fb8-8a93-01dbb5908cef",
   "metadata": {},
   "source": [
    "## In this notebook, Data Science Tools and Ecosystem are summarized.\n"
   ]
  },
  {
   "cell_type": "markdown",
   "id": "bc44a328-807b-4c08-af86-124bf5dbb118",
   "metadata": {},
   "source": [
    "### Some of the popular languages that Data Scientists use are:\n",
    "1. R\n",
    "2. Python \n",
    "3. SQL"
   ]
  },
  {
   "cell_type": "markdown",
   "id": "9df56816-5962-4d26-beae-cf320d4e2c9a",
   "metadata": {},
   "source": [
    "### Some of the commonly used libraries used by Data Scientists include:\n",
    "1. Pandas\n",
    "2. Ggplot\n",
    "3. NumPy\n",
    "4. Plotly"
   ]
  },
  {
   "cell_type": "markdown",
   "id": "244b6201-8458-4cae-b704-f347e12834f1",
   "metadata": {},
   "source": [
    "|Data Science Tools|\n",
    "|---|\n",
    "|RStudio|\n",
    "|ApacheSpark|\n",
    "|TensorFlow|"
   ]
  },
  {
   "cell_type": "markdown",
   "id": "45a5cdb4-4653-4de7-ab48-0f2b2045d589",
   "metadata": {},
   "source": [
    "### Below are a few examples of evaluating arithmetic expressions in Python.\n",
    "x = 10+5\n",
    "\n",
    "y = 20/10\n",
    "\n",
    "z = 15*100"
   ]
  },
  {
   "cell_type": "code",
   "execution_count": 2,
   "id": "c605b945-c219-415a-a6e6-100f2e473e79",
   "metadata": {},
   "outputs": [
    {
     "name": "stdout",
     "output_type": "stream",
     "text": [
      "17\n"
     ]
    }
   ],
   "source": [
    "# This a simple arithmetic expression to mutiply then add integers\n",
    "\n",
    "x = (3*4)+5\n",
    "print(x)"
   ]
  },
  {
   "cell_type": "code",
   "execution_count": 6,
   "id": "fa1e608b-557f-4ef4-825b-f5129a9b55d4",
   "metadata": {},
   "outputs": [
    {
     "name": "stdout",
     "output_type": "stream",
     "text": [
      "Enter the duration in minutes::\n"
     ]
    },
    {
     "name": "stdin",
     "output_type": "stream",
     "text": [
      " 200\n"
     ]
    },
    {
     "name": "stdout",
     "output_type": "stream",
     "text": [
      "Duration in hours =  3.3333333333333335  hours\n"
     ]
    }
   ],
   "source": [
    "# This will convert 200 minutes to hours by diving by 60\n",
    "\n",
    "print(\"Enter the duration in minutes::\")\n",
    "\n",
    "# h = hour\n",
    "# m = minutes\n",
    "\n",
    "m = float(input())\n",
    "\n",
    "h = (float)(m / 60)\n",
    "\n",
    "print(\"Duration in hours = \", h,\" hours\")"
   ]
  },
  {
   "cell_type": "markdown",
   "id": "408eebc3-1d49-46c5-a24c-fc1d208036ad",
   "metadata": {},
   "source": [
    "## In this notebook, Data Science Tools and Ecosystem are summarized.\n",
    "\n",
    "<b>Objectives:\n",
    "    \n",
    "    * List popular languages for Data Science\n",
    "    * Commonly used libraries used by Data Scientists\n",
    "    * Arithmetic expressions in Python\n",
    "    * Data Science Tools\n",
    "    * Code to convert minutes to hours"
   ]
  },
  {
   "cell_type": "markdown",
   "id": "b2046983-a520-42f2-a78c-336321ab0f21",
   "metadata": {},
   "source": [
    "## Author\n",
    "Vikram"
   ]
  }
 ],
 "metadata": {
  "kernelspec": {
   "display_name": "Python 3 (ipykernel)",
   "language": "python",
   "name": "python3"
  },
  "language_info": {
   "codemirror_mode": {
    "name": "ipython",
    "version": 3
   },
   "file_extension": ".py",
   "mimetype": "text/x-python",
   "name": "python",
   "nbconvert_exporter": "python",
   "pygments_lexer": "ipython3",
   "version": "3.9.13"
  }
 },
 "nbformat": 4,
 "nbformat_minor": 5
}
