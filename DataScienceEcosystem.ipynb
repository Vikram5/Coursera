{
 "cells": [
  {
   "cell_type": "markdown",
   "id": "dfdf4e50-2098-433b-88c7-1ff25df66050",
   "metadata": {},
   "source": [
    "# Data Science Tools and Ecosystem"
   ]
  },
  {
   "cell_type": "markdown",
   "id": "caa36714-0b90-44f0-84d5-6c4f83219feb",
   "metadata": {},
   "source": [
    "## In this notebook, Data Science Tools and Ecosystem are summarized."
   ]
  },
  {
   "cell_type": "markdown",
   "id": "c1fb0464-4a23-472a-bf3b-a34de057d626",
   "metadata": {},
   "source": [
    "### Some of the popular languages that Data Scientists use are:\n",
    "1. R\n",
    "2. Python \n",
    "3. SQL"
   ]
  },
  {
   "cell_type": "markdown",
   "id": "2a562cd0-33bd-4cc9-8831-2ff6ab1c15e8",
   "metadata": {
    "tags": []
   },
   "source": [
    "### Some of the commonly used libraries used by Data Scientists include:\n",
    "1. Pandas\n",
    "2. Ggplot\n",
    "3. NumPy\n",
    "4. Plotly"
   ]
  },
  {
   "cell_type": "markdown",
   "id": "5456c40f-32dd-424a-9dce-24011e9ccfcc",
   "metadata": {},
   "source": [
    "|Data Science Tools|\n",
    "|---|\n",
    "|RStudio|\n",
    "|ApacheSpark|\n",
    "|TensorFlow|"
   ]
  },
  {
   "cell_type": "markdown",
   "id": "f1d711bf-64fd-440e-ac33-58a0b929c306",
   "metadata": {},
   "source": [
    "### Below are a few examples of evaluating arithmetic expressions in Python.\n",
    "x = 10+5\n",
    "\n",
    "y = 20/10\n",
    "\n",
    "z = 15*100"
   ]
  },
  {
   "cell_type": "code",
   "execution_count": 7,
   "id": "789895d8-0f27-42b0-9b81-7a898e50802f",
   "metadata": {},
   "outputs": [
    {
     "name": "stdout",
     "output_type": "stream",
     "text": [
      "17\n"
     ]
    }
   ],
   "source": [
    "# This a simple arithmetic expression to mutiply then add integers\n",
    "\n",
    "x = (3*4)+5\n",
    "print(x)"
   ]
  },
  {
   "cell_type": "code",
   "execution_count": 14,
   "id": "2e384dd9-a381-4a42-b23b-5566ffa69a3d",
   "metadata": {},
   "outputs": [
    {
     "ename": "SyntaxError",
     "evalue": "unexpected EOF while parsing (2313077029.py, line 12)",
     "output_type": "error",
     "traceback": [
      "\u001b[0;36m  File \u001b[0;32m\"/var/folders/cg/h18d4x8s3ks1jmsy3djr8s2w0000gn/T/ipykernel_25845/2313077029.py\"\u001b[0;36m, line \u001b[0;32m12\u001b[0m\n\u001b[0;31m    print(\"Duration in hours =\", hr,\" hours\"\u001b[0m\n\u001b[0m                                            ^\u001b[0m\n\u001b[0;31mSyntaxError\u001b[0m\u001b[0;31m:\u001b[0m unexpected EOF while parsing\n"
     ]
    }
   ],
   "source": [
    "# Exercise 9 - Create a code cell to convert minutes to hours (Not Done yet)\n",
    "\n",
    "print(\"Enter the duration in minutes::\")\n",
    "\n",
    "# hr = hour\n",
    "# minutes = minutes\n",
    "\n",
    "hr, minutes = float(input()), 0\n",
    "minutes = (float)(hr*60)\n",
    "hr = (float)(minutes / 60)\n",
    "\n",
    "print(\"Duration in hours =\", hr,\" hours\"\n"
   ]
  },
  {
   "cell_type": "markdown",
   "id": "9a9d8ed9-8b6f-4d4d-acdc-e674b5199526",
   "metadata": {},
   "source": [
    "## In this notebook, Data Science Tools and Ecosystem are summarized."
   ]
  },
  {
   "cell_type": "markdown",
   "id": "0f52aec5-6986-499c-81c3-2d8bd96b90cc",
   "metadata": {},
   "source": [
    "<b>Objectives:\n",
    "    \n",
    "List popular languages for Data Science\n",
    "\n",
    "    * Python\n",
    "    * R\n",
    "    * SQL\n",
    "    * Scala \n",
    "    * Julia\n",
    "    "
   ]
  },
  {
   "cell_type": "markdown",
   "id": "070dd591-a3cb-421b-8e10-15005d89b56a",
   "metadata": {},
   "source": [
    "## Author\n",
    "Vikram"
   ]
  },
  {
   "cell_type": "code",
   "execution_count": 34,
   "id": "42eddbb1-780e-49ae-b380-3486b6360f5e",
   "metadata": {},
   "outputs": [
    {
     "name": "stdout",
     "output_type": "stream",
     "text": [
      "Enter the length in centimeter::\n"
     ]
    },
    {
     "name": "stdin",
     "output_type": "stream",
     "text": [
      " 100\n"
     ]
    },
    {
     "name": "stdout",
     "output_type": "stream",
     "text": [
      "Length in Meter      =  1.0  meter\n",
      "Length in Kilometer  =  0.001  kilometer\n"
     ]
    }
   ],
   "source": [
    "# Program to Convert Meter into Centimeter in Python\n",
    "print(\"Enter the length in centimeter::\")\n",
    "\n",
    "c, m, k = float(input()), 0, 0\n",
    "# c = centimeter\n",
    "# m = meter\n",
    "# k = kilometer\n",
    "\n",
    "# It will convert the centimeter into meter and kilometer values\n",
    "m = (float)(c / 100)\n",
    "k = (float)(c / 100000)\n",
    "\n",
    "# It will print the final output\n",
    "print(\"Length in Meter      = \", m, \" meter\")\n",
    "print(\"Length in Kilometer  = \", k, \" kilometer\")"
   ]
  },
  {
   "cell_type": "code",
   "execution_count": 43,
   "id": "5e600872-be63-4a21-b36b-bb08cfebaa04",
   "metadata": {},
   "outputs": [
    {
     "name": "stdout",
     "output_type": "stream",
     "text": [
      "Enter the duration in minutes::\n"
     ]
    },
    {
     "name": "stdin",
     "output_type": "stream",
     "text": [
      " 200\n"
     ]
    },
    {
     "name": "stdout",
     "output_type": "stream",
     "text": [
      "Duration in hours =  3.3333333333333335  hours\n"
     ]
    }
   ],
   "source": [
    "# Exercise 9 - Create a code cell to convert minutes to hours\n",
    "\n",
    "print(\"Enter the duration in minutes::\")\n",
    "\n",
    "# h = hour\n",
    "# m = minutes\n",
    "\n",
    "m = float(input())\n",
    "\n",
    "h = (float)(m / 60)\n",
    "\n",
    "print(\"Duration in hours = \", h,\" hours\")\n",
    "\n",
    "      "
   ]
  },
  {
   "cell_type": "code",
   "execution_count": null,
   "id": "7df19749-1463-4822-bd61-8d5de70baead",
   "metadata": {},
   "outputs": [],
   "source": []
  }
 ],
 "metadata": {
  "kernelspec": {
   "display_name": "Python 3 (ipykernel)",
   "language": "python",
   "name": "python3"
  },
  "language_info": {
   "codemirror_mode": {
    "name": "ipython",
    "version": 3
   },
   "file_extension": ".py",
   "mimetype": "text/x-python",
   "name": "python",
   "nbconvert_exporter": "python",
   "pygments_lexer": "ipython3",
   "version": "3.9.13"
  }
 },
 "nbformat": 4,
 "nbformat_minor": 5
}
